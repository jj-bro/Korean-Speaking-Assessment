{
 "cells": [
  {
   "cell_type": "code",
   "execution_count": null,
   "metadata": {},
   "outputs": [],
   "source": [
    "import pandas as pd\n",
    "import numpy as np\n",
    "\n",
    "df = pd.read_csv(\"/content/drive/MyDrive/Colab Notebooks/호텔 만족도 데이터.csv\")\n",
    "\n",
    "# make a df where the \"Travel_Type\" is \"solo\"\n",
    "df = df[df[\"Travel_Type\"] == \"solo\"]\n",
    "df.mean()\n",
    "\n",
    "df_mean = df.mean()\n",
    "\n",
    "with open('/content/drive/MyDrive/Colab Notebooks/mean.csv', 'w', newline='') as f:\n",
    "    writer = csv.writer(f)\n",
    "    for i in df_mean:\n",
    "        writer.writerow([i])\n",
    "  \n",
    "\n",
    "# drop the columns that are not needed\n",
    "df = df.drop([\"User_ID\", \"Period_of_Stay\", \"Travel_Type\", \"Pool\", \"Gym\", \"Tennis_Court\", \"Spa\", \"Casino\", \"Free_Internet\", \"Hotel_Name\"], axis=1)\n",
    "\n",
    "\n",
    "\n",
    "\n",
    "\n",
    "\n",
    "print (df.shape)\n",
    "\n",
    "df.head(10)"
   ]
  },
  {
   "cell_type": "code",
   "execution_count": null,
   "metadata": {},
   "outputs": [],
   "source": [
    "# 다섯개의 예측 모델에서 중요도 계산\n",
    "import numpy\n",
    "\n",
    "print(numpy.abs(shap_values1[0]).mean(0))\n",
    "print(numpy.abs(shap_values2[0]).mean(0))\n",
    "print(numpy.abs(shap_values3[0]).mean(0))\n",
    "print(numpy.abs(shap_values4[0]).mean(0))\n",
    "print(numpy.abs(shap_values5[0]).mean(0))\n",
    "\n",
    "# and make it to csv file\n",
    "import csv\n",
    "\n",
    "with open('/content/drive/MyDrive/Colab Notebooks/new.csv', 'w', newline='') as f:\n",
    "    writer = csv.writer(f)\n",
    "    writer.writerow(numpy.abs(shap_values1[0]).mean(0))\n",
    "    writer.writerow(numpy.abs(shap_values2[0]).mean(0))\n",
    "    writer.writerow(numpy.abs(shap_values3[0]).mean(0))\n",
    "    writer.writerow(numpy.abs(shap_values4[0]).mean(0))\n",
    "    writer.writerow(numpy.abs(shap_values5[0]).mean(0))\n"
   ]
  }
 ],
 "metadata": {
  "language_info": {
   "name": "python"
  }
 },
 "nbformat": 4,
 "nbformat_minor": 2
}
