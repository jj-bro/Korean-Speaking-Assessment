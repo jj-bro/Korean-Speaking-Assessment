{
  "nbformat": 4,
  "nbformat_minor": 0,
  "metadata": {
    "colab": {
      "provenance": []
    },
    "kernelspec": {
      "name": "python3",
      "display_name": "Python 3"
    },
    "language_info": {
      "name": "python"
    }
  },
  "cells": [
    {
      "cell_type": "code",
      "execution_count": null,
      "metadata": {
        "colab": {
          "base_uri": "https://localhost:8080/"
        },
        "id": "ABgOVEWA6JKS",
        "outputId": "cdabd8b6-dc95-420c-f3b4-4b09b07cf5ad"
      },
      "outputs": [
        {
          "output_type": "stream",
          "name": "stdout",
          "text": [
            "Drive already mounted at /content/drive; to attempt to forcibly remount, call drive.mount(\"/content/drive\", force_remount=True).\n"
          ]
        },
        {
          "output_type": "execute_result",
          "data": {
            "text/plain": [
              "0          가게\n",
              "1        가격02\n",
              "2        가구02\n",
              "3         가깝다\n",
              "4        가다01\n",
              "        ...  \n",
              "331      이라고는\n",
              "332    -는다던가1\n",
              "333     -으래서야\n",
              "334     -으리라고\n",
              "335      -자면2\n",
              "Length: 10971, dtype: object"
            ]
          },
          "metadata": {},
          "execution_count": 44
        }
      ],
      "source": [
        "#구글 드라이브 마운트\n",
        "from google.colab import drive\n",
        "drive.mount('/content/drive')\n",
        "\n",
        "#판다스로 어휘 문법 등급 목록 가져오기\n",
        "import pandas as pd\n",
        "df = pd.read_excel(\"/content/drive/MyDrive/텍마과제/2017년 국제 통용 한국어 표준 교육과정 적용 연구(4단계) 어휘, 문법 등급 목록.xlsx\", sheet_name = [0,1])\n",
        "\n",
        "#어휘와 문법의 구성 요소만 확인할 수 있는 데이터프레임 생성\n",
        "df_voca = pd.concat([df[0]['어휘'], df[1]['대표형']])\n",
        "\n",
        "#확인\n",
        "df_voca"
      ]
    },
    {
      "cell_type": "code",
      "source": [
        "#값 내 숫자 제거\n",
        "df_voca = df_voca.replace(r'\\d+', '', regex=True)\n",
        "\n",
        "#숫자 제거 확인\n",
        "df_voca"
      ],
      "metadata": {
        "id": "X2w-jmHLbjRc",
        "colab": {
          "base_uri": "https://localhost:8080/"
        },
        "outputId": "9f09f255-f749-4371-ea43-a1db34ec32ee"
      },
      "execution_count": null,
      "outputs": [
        {
          "output_type": "execute_result",
          "data": {
            "text/plain": [
              "0         가게\n",
              "1         가격\n",
              "2         가구\n",
              "3        가깝다\n",
              "4         가다\n",
              "       ...  \n",
              "331     이라고는\n",
              "332    -는다던가\n",
              "333    -으래서야\n",
              "334    -으리라고\n",
              "335      -자면\n",
              "Length: 10971, dtype: object"
            ]
          },
          "metadata": {},
          "execution_count": 45
        }
      ]
    },
    {
      "cell_type": "code",
      "source": [
        "#코모란 설치\n",
        "!pip install PyKomoran"
      ],
      "metadata": {
        "colab": {
          "base_uri": "https://localhost:8080/"
        },
        "id": "NDOnJCJBVBLs",
        "outputId": "3fc36582-5506-4576-9b37-29ed19d1a453"
      },
      "execution_count": null,
      "outputs": [
        {
          "output_type": "stream",
          "name": "stdout",
          "text": [
            "Requirement already satisfied: PyKomoran in /usr/local/lib/python3.10/dist-packages (0.1.6.post1)\n",
            "Requirement already satisfied: py4j==0.10.9.2 in /usr/local/lib/python3.10/dist-packages (from PyKomoran) (0.10.9.2)\n"
          ]
        }
      ]
    },
    {
      "cell_type": "code",
      "source": [
        "#코모란 라이브러리 가져오기 및 확인\n",
        "from PyKomoran import *\n",
        "komoran = Komoran(\"EXP\")\n",
        "print(komoran.get_plain_text(\"KOMORAN은 한국어 형태소 분석기입니다.\"))"
      ],
      "metadata": {
        "colab": {
          "base_uri": "https://localhost:8080/"
        },
        "id": "ep9MAbECUlHT",
        "outputId": "b25e4639-1682-444b-94c1-fede7914d4b8"
      },
      "execution_count": null,
      "outputs": [
        {
          "output_type": "stream",
          "name": "stdout",
          "text": [
            "KOMORAN/SL 은/JX 한국어/NNP 형태소/NNP 분석기/NNG 이/VCP ㅂ니다/EF ./SF\n"
          ]
        }
      ]
    },
    {
      "cell_type": "code",
      "source": [
        "#한국어 불용어 사전 가져오기\n",
        "stop = pd.read_table(\"/content/drive/MyDrive/텍마과제/koreanStopwords.txt\", names =[\"단어\", \"형태소\", \"수치\"])\n",
        "print(stop)"
      ],
      "metadata": {
        "colab": {
          "base_uri": "https://localhost:8080/"
        },
        "id": "tcWRi0PuZamx",
        "outputId": "f2887a67-1baf-4e68-929d-6becf885fc41"
      },
      "execution_count": null,
      "outputs": [
        {
          "output_type": "stream",
          "name": "stdout",
          "text": [
            "    단어  형태소        수치\n",
            "0    이  VCP  0.018280\n",
            "1    있   VA  0.011699\n",
            "2    하   VV  0.009774\n",
            "3    것  NNB  0.009733\n",
            "4    들  XSN  0.006898\n",
            "..  ..  ...       ...\n",
            "95   원  NNB  0.000492\n",
            "96   잘  MAG  0.000491\n",
            "97  통하   VV  0.000487\n",
            "98  소리  NNG  0.000486\n",
            "99   놓   VX  0.000483\n",
            "\n",
            "[100 rows x 3 columns]\n"
          ]
        }
      ]
    },
    {
      "cell_type": "code",
      "source": [
        "#불용어 사전에서 필요한 정보만 추출하기\n",
        "stop['단어']"
      ],
      "metadata": {
        "colab": {
          "base_uri": "https://localhost:8080/"
        },
        "id": "2BJu_wX6ZrH_",
        "outputId": "590824c6-5a16-41b4-83c7-ea5a7b57f39a"
      },
      "execution_count": null,
      "outputs": [
        {
          "output_type": "execute_result",
          "data": {
            "text/plain": [
              "0      이\n",
              "1      있\n",
              "2      하\n",
              "3      것\n",
              "4      들\n",
              "      ..\n",
              "95     원\n",
              "96     잘\n",
              "97    통하\n",
              "98    소리\n",
              "99     놓\n",
              "Name: 단어, Length: 100, dtype: object"
            ]
          },
          "metadata": {},
          "execution_count": 49
        }
      ]
    },
    {
      "cell_type": "code",
      "source": [
        "#어휘 문법 사전의 구성 요소들을 형태소 형태로 변경 + 불용어 제거\n",
        "stopwords = [[stop['단어'], '-']]\n",
        "\n",
        "voca_list = []\n",
        "\n",
        "for w in df_voca:\n",
        "  newdf = komoran.get_morphes_by_tags(w, tag_list=['NP', 'NNG', 'XSA', 'EP', 'EF', 'JX', 'NNP', 'JKB', 'XSV', 'EC', 'VX', 'ETM', 'XSN', 'VCP', 'VV', 'VA', 'JKS', 'MAG', 'XR', 'JC', 'NA', 'VCN', 'MM', 'ETN', 'MAJ', 'JKG', 'JKC', 'IC', 'NNB', 'NR', 'JKO', 'XPN', 'JKQ'])\n",
        "\n",
        "  for w in newdf:\n",
        "    if w not in stopwords:\n",
        "      voca_list.append(w)\n",
        "\n",
        "#형태소 형태로 전환된 새로운 어휘 문법 데이터프레임 생성\n",
        "vocadf = pd.Series(voca_list)\n",
        "\n",
        "#확인\n",
        "print('상위 20개:\\n',vocadf.head(20))\n",
        "print('상위 20개:\\n',vocadf.tail(20))\n",
        "\n",
        "#데이터 프레임 저장\n",
        "vocadf.to_csv('/content/drive/MyDrive/텍마과제/vocadf.csv', index=False)"
      ],
      "metadata": {
        "id": "BA2A9hT3U_ps",
        "colab": {
          "base_uri": "https://localhost:8080/"
        },
        "outputId": "bb55b72c-7cbd-4602-a024-8958e1518a12"
      },
      "execution_count": null,
      "outputs": [
        {
          "output_type": "stream",
          "name": "stdout",
          "text": [
            "상위 20개:\n",
            " 0       가\n",
            "1       게\n",
            "2      가격\n",
            "3      가구\n",
            "4      가깝\n",
            "5       다\n",
            "6       가\n",
            "7       다\n",
            "8     가르치\n",
            "9       다\n",
            "10     가방\n",
            "11     가볍\n",
            "12      다\n",
            "13     가수\n",
            "14     가요\n",
            "15    가운데\n",
            "16      가\n",
            "17      을\n",
            "18     가장\n",
            "19     가족\n",
            "dtype: object\n",
            "상위 20개:\n",
            " 15260    으리라는\n",
            "15261       를\n",
            "15262      막론\n",
            "15263       하\n",
            "15264       고\n",
            "15265       이\n",
            "15266       어\n",
            "15267      치우\n",
            "15268       다\n",
            "15269       이\n",
            "15270     는다는\n",
            "15271     이라고\n",
            "15272       는\n",
            "15273       이\n",
            "15274    는다던가\n",
            "15275      으래\n",
            "15276       서\n",
            "15277      어야\n",
            "15278    으리라고\n",
            "15279      자면\n",
            "dtype: object\n"
          ]
        }
      ]
    }
  ]
}