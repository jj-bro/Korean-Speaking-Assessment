{
 "cells": [
  {
   "attachments": {},
   "cell_type": "markdown",
   "metadata": {},
   "source": [
    "# 발음 평가 전처리\n",
    "## - Tokenization\n",
    "## - Cleaning - 영어/숫자 제거\n",
    "## - Stemming/Lemmatization\n",
    "## - Stopwords 제거\n"
   ]
  },
  {
   "attachments": {},
   "cell_type": "markdown",
   "metadata": {},
   "source": [
    "## string data 입력"
   ]
  },
  {
   "cell_type": "code",
   "execution_count": 3,
   "metadata": {},
   "outputs": [
    {
     "name": "stdout",
     "output_type": "stream",
     "text": [
      "음 아안녕하세요. 전 저는 <name1>입니다. 저는 학생입니다. <name2>대학교 학교에 국 한국어를 배워요. 저는 지금? 좋아요. 어 제가쪽이 음 네 명이에요. 아버지하고 어머니하고 누나하고 저이에요. 아버지는 선생님이에요. 음 아버지는 지금? 좋아요. 어 어머니 어머니는 요리사이에요 예요(이에요). 엄 으음 뜨 뜨라 뜨라 드 드라마를 좋아요. 어 누나 누나 누나가 회사원이에요. 저 저 운도를? 해요. 아주 좋아해요.\n"
     ]
    }
   ],
   "source": [
    "with open(\"input.txt\") as f:\n",
    "    input_str = f.read()\n",
    "print(input_str)"
   ]
  },
  {
   "attachments": {},
   "cell_type": "markdown",
   "metadata": {},
   "source": [
    "## 토큰화(Tokenization)"
   ]
  },
  {
   "cell_type": "code",
   "execution_count": 5,
   "metadata": {},
   "outputs": [
    {
     "name": "stdout",
     "output_type": "stream",
     "text": [
      "Collecting konlpy\n",
      "  Using cached konlpy-0.6.0-py2.py3-none-any.whl (19.4 MB)\n",
      "Collecting JPype1>=0.7.0\n",
      "  Using cached JPype1-1.4.1-cp311-cp311-macosx_10_9_universal2.whl (590 kB)\n",
      "Collecting lxml>=4.1.0\n",
      "  Downloading lxml-4.9.3-cp311-cp311-macosx_11_0_universal2.whl (8.6 MB)\n",
      "\u001b[2K     \u001b[90m━━━━━━━━━━━━━━━━━━━━━━━━━━━━━━━━━━━━━━━━\u001b[0m \u001b[32m8.6/8.6 MB\u001b[0m \u001b[31m3.2 MB/s\u001b[0m eta \u001b[36m0:00:00\u001b[0m00:01\u001b[0m00:01\u001b[0m\n",
      "\u001b[?25hRequirement already satisfied: numpy>=1.6 in /opt/homebrew/lib/python3.11/site-packages (from konlpy) (1.24.3)\n",
      "Requirement already satisfied: packaging in /Users/jbro/Library/Python/3.11/lib/python/site-packages (from JPype1>=0.7.0->konlpy) (23.1)\n",
      "Installing collected packages: lxml, JPype1, konlpy\n",
      "Successfully installed JPype1-1.4.1 konlpy-0.6.0 lxml-4.9.3\n",
      "\n",
      "\u001b[1m[\u001b[0m\u001b[34;49mnotice\u001b[0m\u001b[1;39;49m]\u001b[0m\u001b[39;49m A new release of pip is available: \u001b[0m\u001b[31;49m23.0.1\u001b[0m\u001b[39;49m -> \u001b[0m\u001b[32;49m23.3.1\u001b[0m\n",
      "\u001b[1m[\u001b[0m\u001b[34;49mnotice\u001b[0m\u001b[1;39;49m]\u001b[0m\u001b[39;49m To update, run: \u001b[0m\u001b[32;49mpython3.11 -m pip install --upgrade pip\u001b[0m\n",
      "('OKT 형태소 분석 :', ['음', '아', '안녕하세요', '.', '전', '저', '는', '<', 'name', '1', '>', '입니다', '.', '저', '는', '학생', '입니다', '.', '<', 'name', '2', '>', '대학교', '학교', '에', '국', '한국어', '를', '배워요', '.', '저', '는', '지금', '?', '좋아요', '.', '어', '제', '가', '쪽', '이', '음', '네', '명', '이에요', '.', '아버지', '하고', '어머니', '하고', '누나', '하고', '저', '이에요', '.', '아버지', '는', '선생님', '이에요', '.', '음', '아버지', '는', '지금', '?', '좋아요', '.', '어', '어머니', '어머니', '는', '요리사', '이에요', '예요', '(', '이에요', ').', '엄', '으음', '뜨', '뜨라', '뜨라', '드', '드라마', '를', '좋아요', '.', '어', '누나', '누나', '누나', '가', '회사원', '이에요', '.', '저', '저', '운', '도를', '?', '해', '요', '.', '아주', '좋아해요', '.'])\n",
      "('꼬꼬마 형태소 분석 :', ['음', '아', '안녕', '하', '세요', '.', '저', '는', '저', '는', '<', 'name', '1', '>', '이', 'ㅂ니다', '.', '저', '는', '학생', '이', 'ㅂ니다', '.', '<', 'name', '2', '>', '대학교', '학교', '에', '국', '한국어', '를', '배우', '어요', '.', '저', '는', '지금', '?', '좋', '아요', '.', '어', '어', '제가', '쪽', '이', '음', '네', '명', '이', '에요', '.', '아버지', '하', '고', '어머니', '하', '고', '누나', '하', '고', '저', '이', '에요', '.', '아버지', '는', '선생님', '이', '에요', '.', '음', '아버지', '는', '지금', '?', '좋', '아요', '.', '어', '어', '어머니', '어머니', '는', '요리', '사이', '에', '요', '예', '요', '(', '이에', '요', ')', '.', '어', 'ㅁ', '으', '음', '뜨', '뜨라', '뜨', '라', '들', '드라마', '를', '좋', '아요', '.', '어', '어', '누나', '누나', '누나', '가', '회', '사원', '이', '에요', '.', '저', '저', '운', '도', '를', '?', '하', '어요', '.', '아주', '좋아하', '어요', '.'])\n"
     ]
    }
   ],
   "source": [
    "!pip3 install konlpy\n",
    "\n",
    "from konlpy.tag import Okt\n",
    "from konlpy.tag import Kkma\n",
    "\n",
    "okt = Okt()\n",
    "kkma = Kkma()\n",
    "\n",
    "input_token_okt = 'OKT 형태소 분석 :',okt.morphs(input_str)\n",
    "input_token_kkma = '꼬꼬마 형태소 분석 :',kkma.morphs(input_str)\n",
    "\n",
    "print(input_token_okt)\n",
    "print(input_token_kkma)"
   ]
  },
  {
   "attachments": {},
   "cell_type": "markdown",
   "metadata": {},
   "source": [
    "## 정제(Cleaning)\n",
    "`- 영어 제거`<br><br>\n",
    "`- 숫자 제거`<br><br>\n",
    "`- 기호 제거`"
   ]
  },
  {
   "cell_type": "code",
   "execution_count": 8,
   "metadata": {},
   "outputs": [
    {
     "ename": "TypeError",
     "evalue": "expected string or bytes-like object, got 'list'",
     "output_type": "error",
     "traceback": [
      "\u001b[0;31m---------------------------------------------------------------------------\u001b[0m",
      "\u001b[0;31mTypeError\u001b[0m                                 Traceback (most recent call last)",
      "Cell \u001b[0;32mIn[8], line 46\u001b[0m\n\u001b[1;32m     42\u001b[0m         result_list\u001b[39m.\u001b[39mappend(non_symbol_string)\n\u001b[1;32m     44\u001b[0m     \u001b[39mreturn\u001b[39;00m result_list\n\u001b[0;32m---> 46\u001b[0m input_clean_okt \u001b[39m=\u001b[39m remove_english(input_token_okt)\n\u001b[1;32m     47\u001b[0m input_clean_okt \u001b[39m=\u001b[39m remove_numbers(input_clean_okt)\n\u001b[1;32m     48\u001b[0m input_clean_okt \u001b[39m=\u001b[39m remove_symbols(input_clean_okt)\n",
      "Cell \u001b[0;32mIn[8], line 13\u001b[0m, in \u001b[0;36mremove_english\u001b[0;34m(input_list)\u001b[0m\n\u001b[1;32m      9\u001b[0m result_list \u001b[39m=\u001b[39m []\n\u001b[1;32m     11\u001b[0m \u001b[39mfor\u001b[39;00m string \u001b[39min\u001b[39;00m input_list:\n\u001b[1;32m     12\u001b[0m     \u001b[39m# 정규식 패턴과 매치되지 않는 문자열만 저장\u001b[39;00m\n\u001b[0;32m---> 13\u001b[0m     non_english_string \u001b[39m=\u001b[39m re\u001b[39m.\u001b[39;49msub(pattern, \u001b[39m'\u001b[39;49m\u001b[39m'\u001b[39;49m, string)\n\u001b[1;32m     14\u001b[0m     result_list\u001b[39m.\u001b[39mappend(non_english_string)\n\u001b[1;32m     16\u001b[0m \u001b[39mreturn\u001b[39;00m result_list\n",
      "File \u001b[0;32m/opt/homebrew/Cellar/python@3.11/3.11.4_1/Frameworks/Python.framework/Versions/3.11/lib/python3.11/re/__init__.py:185\u001b[0m, in \u001b[0;36msub\u001b[0;34m(pattern, repl, string, count, flags)\u001b[0m\n\u001b[1;32m    178\u001b[0m \u001b[39mdef\u001b[39;00m \u001b[39msub\u001b[39m(pattern, repl, string, count\u001b[39m=\u001b[39m\u001b[39m0\u001b[39m, flags\u001b[39m=\u001b[39m\u001b[39m0\u001b[39m):\n\u001b[1;32m    179\u001b[0m \u001b[39m    \u001b[39m\u001b[39m\"\"\"Return the string obtained by replacing the leftmost\u001b[39;00m\n\u001b[1;32m    180\u001b[0m \u001b[39m    non-overlapping occurrences of the pattern in string by the\u001b[39;00m\n\u001b[1;32m    181\u001b[0m \u001b[39m    replacement repl.  repl can be either a string or a callable;\u001b[39;00m\n\u001b[1;32m    182\u001b[0m \u001b[39m    if a string, backslash escapes in it are processed.  If it is\u001b[39;00m\n\u001b[1;32m    183\u001b[0m \u001b[39m    a callable, it's passed the Match object and must return\u001b[39;00m\n\u001b[1;32m    184\u001b[0m \u001b[39m    a replacement string to be used.\"\"\"\u001b[39;00m\n\u001b[0;32m--> 185\u001b[0m     \u001b[39mreturn\u001b[39;00m _compile(pattern, flags)\u001b[39m.\u001b[39;49msub(repl, string, count)\n",
      "\u001b[0;31mTypeError\u001b[0m: expected string or bytes-like object, got 'list'"
     ]
    }
   ],
   "source": [
    "## 영어 제거\n",
    "import re\n",
    "\n",
    "def remove_english(input_list):\n",
    "    # 정규식 패턴: 영어 문자나 공백을 모두 제거\n",
    "    pattern = r'[a-zA-Z\\s]+'\n",
    "    \n",
    "    # 결과를 저장할 빈 리스트 생성\n",
    "    result_list = []\n",
    "\n",
    "    for string in input_list:\n",
    "        # 정규식 패턴과 매치되지 않는 문자열만 저장\n",
    "        non_english_string = re.sub(pattern, '', string)\n",
    "        result_list.append(non_english_string)\n",
    "\n",
    "    return result_list\n",
    "\n",
    "def remove_numbers(input_list):\n",
    "    # 정규식 패턴: 숫자 및 숫자와 관련된 문자를 모두 제거\n",
    "    pattern = r'\\d+|\\d*\\.\\d+|\\-\\d+|\\+\\d+'\n",
    "    \n",
    "    # 결과를 저장할 빈 리스트 생성\n",
    "    result_list = []\n",
    "\n",
    "    for string in input_list:\n",
    "        # 정규식 패턴과 매치되지 않는 문자열만 저장\n",
    "        non_number_string = re.sub(pattern, '', string)\n",
    "        result_list.append(non_number_string)\n",
    "\n",
    "    return result_list\n",
    "\n",
    "def remove_symbols(input_list):\n",
    "    # 정규식 패턴: 일반적인 문장 부호 및 특수 문자를 모두 제거\n",
    "    pattern = r'[!@#$%^&*()_+-={}\\[\\]:;\"\\'<>,.?/~`|\\\\]'\n",
    "    \n",
    "    # 결과를 저장할 빈 리스트 생성\n",
    "    result_list = []\n",
    "\n",
    "    for string in input_list:\n",
    "        # 정규식 패턴과 매치되지 않는 문자열만 저장\n",
    "        non_symbol_string = re.sub(pattern, '', string)\n",
    "        result_list.append(non_symbol_string)\n",
    "\n",
    "    return result_list\n",
    "\n",
    "input_clean_okt = remove_english(input_token_okt)\n",
    "input_clean_okt = remove_numbers(input_clean_okt)\n",
    "input_clean_okt = remove_symbols(input_clean_okt)\n",
    "\n",
    "input_clean_kkma = remove_english(input_token_kkma)\n",
    "input_clean_kkma = remove_numbers(input_clean_kkma)\n",
    "input_clean_kkma = remove_symbols(input_clean_kkma)\n",
    "\n",
    "print(input_clean_okt)\n",
    "print(input_clean_kkma)"
   ]
  }
 ],
 "metadata": {
  "kernelspec": {
   "display_name": "Python 3",
   "language": "python",
   "name": "python3"
  },
  "language_info": {
   "codemirror_mode": {
    "name": "ipython",
    "version": 3
   },
   "file_extension": ".py",
   "mimetype": "text/x-python",
   "name": "python",
   "nbconvert_exporter": "python",
   "pygments_lexer": "ipython3",
   "version": "3.11.4"
  },
  "orig_nbformat": 4
 },
 "nbformat": 4,
 "nbformat_minor": 2
}
