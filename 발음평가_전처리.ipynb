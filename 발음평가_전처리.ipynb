{
 "cells": [
  {
   "attachments": {},
   "cell_type": "markdown",
   "metadata": {},
   "source": [
    "# 발음 평가 전처리\n",
    "## - Tokenization/Lemmatization\n",
    "## - Cleaning - 영어,숫자,기호,공백 제거\n",
    "## - Stopwords 제거\n"
   ]
  },
  {
   "attachments": {},
   "cell_type": "markdown",
   "metadata": {},
   "source": [
    "## string data 입력"
   ]
  },
  {
   "cell_type": "code",
   "execution_count": 3,
   "metadata": {},
   "outputs": [
    {
     "name": "stdout",
     "output_type": "stream",
     "text": [
      "음 아안녕하세요. 전 저는 <name1>입니다. 저는 학생입니다. <name2>대학교 학교에 국 한국어를 배워요. 저는 지금? 좋아요. 어 제가쪽이 음 네 명이에요. 아버지하고 어머니하고 누나하고 저이에요. 아버지는 선생님이에요. 음 아버지는 지금? 좋아요. 어 어머니 어머니는 요리사이에요 예요(이에요). 엄 으음 뜨 뜨라 뜨라 드 드라마를 좋아요. 어 누나 누나 누나가 회사원이에요. 저 저 운도를? 해요. 아주 좋아해요.\n"
     ]
    }
   ],
   "source": [
    "with open(\"input.txt\") as f:\n",
    "    input_str = f.read()\n",
    "print(input_str)"
   ]
  },
  {
   "attachments": {},
   "cell_type": "markdown",
   "metadata": {},
   "source": [
    "## 토큰화(Tokenization)"
   ]
  },
  {
   "cell_type": "code",
   "execution_count": 23,
   "metadata": {},
   "outputs": [
    {
     "name": "stdout",
     "output_type": "stream",
     "text": [
      "코모란: ['음/IC', '아/IC', '안녕하세요/IC', './SF', '전/MM', '저/NP', '는/JX', '</SS', 'name/SL', '1/SN', '>/SS', '이/VCP', 'ㅂ니다/EF', './SF', '저/NP', '는/JX', '학생/NNG', '이/VCP', 'ㅂ니다/EF', './SF', '</SS', 'name/SL', '2/SN', '>/SS', '대학교/NNG', '학교/NNG', '에/JKB', '국/NNG', '한국어/NNG', '를/JKO', '배우/VV', '어요/EF', './SF', '저/NP', '는/JX', '지금/MAG', '?/SF', '좋/VA', '아요/EF', './SF', '어/IC', '제가/NNP', '쪽/NNB', '이/JKS', '음/IC', '네/MM', '명/NNB', '이/VCP', '에요/EF', './SF', '아버지/NNG', '하/XSV', '고/EC', '어머니/NNG', '하/XSV', '고/EC', '누나/NNG', '하/XSV', '고/EC', '저/NP', '이/VCP', '에요/EF', './SF', '아버지/NNG', '는/JX', '선생/NNG', '님/XSN', '이/VCP', '에요/EF', './SF', '음/IC', '아버지/NNG', '는/JX', '지금/MAG', '?/SF', '좋/VA', '아요/EF', './SF', '어/IC', '어머니/NNG', '어머니/NNG', '는/JX', '요리사/NNG', '이/VCP', '에요/EC', '예/NNG', '이/VCP', '요/EC', '(/SS', '이/VCP', '에요/EF', ')/SS', './SF', '엄/NNP', '으음/IC', '뜨/VV', '뜨/VV', '라/EC', '뜨/VV', '라/EC', '드/NNP', '드라마/NNG', '를/JKO', '좋/VA', '아요/EF', './SF', '어/IC', '누나/NNG', '누나/NNG', '누나/NNG', '가/JKS', '회사원/NNG', '이/VCP', '에요/EF', './SF', '저/MM', '저/MM', '운도/NNP', '를/JKO', '?/SF', '하/VX', '아요/EF', './SF', '아주/MAG', '좋아하/VV', '아요/EF', './SF']\n"
     ]
    },
    {
     "data": {
      "text/html": [
       "<div>\n",
       "<style scoped>\n",
       "    .dataframe tbody tr th:only-of-type {\n",
       "        vertical-align: middle;\n",
       "    }\n",
       "\n",
       "    .dataframe tbody tr th {\n",
       "        vertical-align: top;\n",
       "    }\n",
       "\n",
       "    .dataframe thead th {\n",
       "        text-align: right;\n",
       "    }\n",
       "</style>\n",
       "<table border=\"1\" class=\"dataframe\">\n",
       "  <thead>\n",
       "    <tr style=\"text-align: right;\">\n",
       "      <th></th>\n",
       "      <th>형태소</th>\n",
       "      <th>주석</th>\n",
       "    </tr>\n",
       "  </thead>\n",
       "  <tbody>\n",
       "    <tr>\n",
       "      <th>0</th>\n",
       "      <td>음</td>\n",
       "      <td>IC</td>\n",
       "    </tr>\n",
       "    <tr>\n",
       "      <th>1</th>\n",
       "      <td>아</td>\n",
       "      <td>IC</td>\n",
       "    </tr>\n",
       "    <tr>\n",
       "      <th>2</th>\n",
       "      <td>안녕하세요</td>\n",
       "      <td>IC</td>\n",
       "    </tr>\n",
       "    <tr>\n",
       "      <th>3</th>\n",
       "      <td>.</td>\n",
       "      <td>SF</td>\n",
       "    </tr>\n",
       "    <tr>\n",
       "      <th>4</th>\n",
       "      <td>전</td>\n",
       "      <td>MM</td>\n",
       "    </tr>\n",
       "    <tr>\n",
       "      <th>...</th>\n",
       "      <td>...</td>\n",
       "      <td>...</td>\n",
       "    </tr>\n",
       "    <tr>\n",
       "      <th>122</th>\n",
       "      <td>.</td>\n",
       "      <td>SF</td>\n",
       "    </tr>\n",
       "    <tr>\n",
       "      <th>123</th>\n",
       "      <td>아주</td>\n",
       "      <td>MAG</td>\n",
       "    </tr>\n",
       "    <tr>\n",
       "      <th>124</th>\n",
       "      <td>좋아하</td>\n",
       "      <td>VV</td>\n",
       "    </tr>\n",
       "    <tr>\n",
       "      <th>125</th>\n",
       "      <td>아요</td>\n",
       "      <td>EF</td>\n",
       "    </tr>\n",
       "    <tr>\n",
       "      <th>126</th>\n",
       "      <td>.</td>\n",
       "      <td>SF</td>\n",
       "    </tr>\n",
       "  </tbody>\n",
       "</table>\n",
       "<p>127 rows × 2 columns</p>\n",
       "</div>"
      ],
      "text/plain": [
       "       형태소   주석\n",
       "0        음   IC\n",
       "1        아   IC\n",
       "2    안녕하세요   IC\n",
       "3        .   SF\n",
       "4        전   MM\n",
       "..     ...  ...\n",
       "122      .   SF\n",
       "123     아주  MAG\n",
       "124    좋아하   VV\n",
       "125     아요   EF\n",
       "126      .   SF\n",
       "\n",
       "[127 rows x 2 columns]"
      ]
     },
     "execution_count": 23,
     "metadata": {},
     "output_type": "execute_result"
    }
   ],
   "source": [
    "# !pip3 install PyKomoran\n",
    "\n",
    "from PyKomoran import *\n",
    "import pandas as pd\n",
    "\n",
    "komoran = Komoran(\"EXP\")\n",
    "input_token_komoran = komoran.get_plain_text(input_str).split(' ')\n",
    "print('코모란:', input_token_komoran)\n",
    "\n",
    "df_komoran = pd.DataFrame([x.split('/') for x in input_token_komoran], columns=['형태소', '주석'])\n",
    "\n",
    "df_komoran"
   ]
  },
  {
   "attachments": {},
   "cell_type": "markdown",
   "metadata": {},
   "source": [
    "## 정제(Cleaning)\n",
    "#### - 영어 제거\n",
    "#### - 숫자 제거\n",
    "#### - 기호 제거\n",
    "#### - 공백 제거"
   ]
  },
  {
   "cell_type": "code",
   "execution_count": 36,
   "metadata": {},
   "outputs": [
    {
     "data": {
      "text/plain": [
       "array(['음', '아', '안녕하세요', '전', '저', '는', '이', 'ㅂ니다', '학생', '대학교', '학교',\n",
       "       '에', '국', '한국어', '를', '배우', '어요', '지금', '좋', '아요', '어', '제가', '쪽',\n",
       "       '네', '명', '에요', '아버지', '하', '고', '어머니', '누나', '선생', '님', '요리사',\n",
       "       '예', '요', '엄', '으음', '뜨', '라', '드', '드라마', '가', '회사원', '운도', '아주',\n",
       "       '좋아하'], dtype=object)"
      ]
     },
     "execution_count": 36,
     "metadata": {},
     "output_type": "execute_result"
    }
   ],
   "source": [
    "import re\n",
    "\n",
    "# 정규식 패턴\n",
    "pattern_english = r'^[a-zA-Z]+$'\n",
    "pattern_number = r'\\d+'\n",
    "pattern_symbol = r'[!@#$%^&*()_+-={}\\[\\]:;\"\\'<>,.?/~`|]'\n",
    "pattern_empty = r'\\s+'\n",
    "\n",
    "# 제거할 형태소 리스트\n",
    "list_english = []\n",
    "list_number = []\n",
    "list_symbol = []\n",
    "list_empty = []\n",
    "\n",
    "## 영어 제거\n",
    "for index, row in df_komoran.iterrows():\n",
    "    if re.match(pattern_english, row['형태소']):\n",
    "        list_english.append(index)\n",
    "\n",
    "df_remove_english = df_komoran.drop(list_english)\n",
    "\n",
    "\n",
    "## 숫자 제거\n",
    "for index, row in df_remove_english.iterrows():\n",
    "    if re.match(pattern_number, row['형태소']):\n",
    "        list_number.append(index)\n",
    "\n",
    "df_remove_number = df_remove_english.drop(list_number)\n",
    "\n",
    "\n",
    "## 기호 제거\n",
    "for index, row in df_remove_number.iterrows():\n",
    "    if re.match(pattern_symbol, row['형태소']):\n",
    "        list_symbol.append(index)\n",
    "\n",
    "df_remove_symbol = df_remove_number.drop(list_symbol)\n",
    "\n",
    "\n",
    "## 공백 제거\n",
    "for index, row in df_remove_symbol.iterrows():\n",
    "    if re.match(pattern_empty, row['형태소']):\n",
    "        list_empty.append(index)\n",
    "\n",
    "df_data = df_remove_symbol.drop(list_empty)\n",
    "\n",
    "df_data['형태소'].unique()\n"
   ]
  },
  {
   "attachments": {},
   "cell_type": "markdown",
   "metadata": {},
   "source": [
    "#### 미사용 형태 주석 제거"
   ]
  },
  {
   "cell_type": "code",
   "execution_count": 41,
   "metadata": {},
   "outputs": [
    {
     "name": "stdout",
     "output_type": "stream",
     "text": [
      "['IC' 'MM' 'NP' 'JX' 'VCP' 'EF' 'NNG' 'JKB' 'JKO' 'VV' 'MAG' 'VA' 'NNP'\n",
      " 'NNB' 'JKS' 'XSV' 'EC' 'XSN' 'VX']\n"
     ]
    }
   ],
   "source": [
    "## 미사용 형태 주석 제거\n",
    "using_pos = ['NP', 'NNG', 'XSA', 'EP', 'EF', 'JX', 'NNP', 'JKB', 'XSV', 'EC', 'VX', 'ETM', 'XSN', 'VCP', 'VV', 'VA', 'JKS', 'MAG', 'XR', 'JC', 'NA', 'VCN', 'MM', 'ETN', 'MAJ', 'JKG', 'JKC', 'IC', 'NNB', 'NR', 'JKO', 'XPN', 'JKQ']\n",
    "\n",
    "df_data = df_data[df_data['주석'].isin(using_pos)]\n",
    "\n",
    "print(df_data['주석'].unique())"
   ]
  },
  {
   "attachments": {},
   "cell_type": "markdown",
   "metadata": {},
   "source": [
    "## 불용어(Stopwords) 제거"
   ]
  },
  {
   "cell_type": "code",
   "execution_count": 43,
   "metadata": {},
   "outputs": [
    {
     "data": {
      "text/html": [
       "<div>\n",
       "<style scoped>\n",
       "    .dataframe tbody tr th:only-of-type {\n",
       "        vertical-align: middle;\n",
       "    }\n",
       "\n",
       "    .dataframe tbody tr th {\n",
       "        vertical-align: top;\n",
       "    }\n",
       "\n",
       "    .dataframe thead th {\n",
       "        text-align: right;\n",
       "    }\n",
       "</style>\n",
       "<table border=\"1\" class=\"dataframe\">\n",
       "  <thead>\n",
       "    <tr style=\"text-align: right;\">\n",
       "      <th></th>\n",
       "      <th>형태소</th>\n",
       "      <th>주석</th>\n",
       "    </tr>\n",
       "  </thead>\n",
       "  <tbody>\n",
       "    <tr>\n",
       "      <th>0</th>\n",
       "      <td>음</td>\n",
       "      <td>IC</td>\n",
       "    </tr>\n",
       "    <tr>\n",
       "      <th>1</th>\n",
       "      <td>아</td>\n",
       "      <td>IC</td>\n",
       "    </tr>\n",
       "    <tr>\n",
       "      <th>2</th>\n",
       "      <td>안녕하세요</td>\n",
       "      <td>IC</td>\n",
       "    </tr>\n",
       "    <tr>\n",
       "      <th>4</th>\n",
       "      <td>전</td>\n",
       "      <td>MM</td>\n",
       "    </tr>\n",
       "    <tr>\n",
       "      <th>5</th>\n",
       "      <td>저</td>\n",
       "      <td>NP</td>\n",
       "    </tr>\n",
       "    <tr>\n",
       "      <th>...</th>\n",
       "      <td>...</td>\n",
       "      <td>...</td>\n",
       "    </tr>\n",
       "    <tr>\n",
       "      <th>120</th>\n",
       "      <td>하</td>\n",
       "      <td>VX</td>\n",
       "    </tr>\n",
       "    <tr>\n",
       "      <th>121</th>\n",
       "      <td>아요</td>\n",
       "      <td>EF</td>\n",
       "    </tr>\n",
       "    <tr>\n",
       "      <th>123</th>\n",
       "      <td>아주</td>\n",
       "      <td>MAG</td>\n",
       "    </tr>\n",
       "    <tr>\n",
       "      <th>124</th>\n",
       "      <td>좋아하</td>\n",
       "      <td>VV</td>\n",
       "    </tr>\n",
       "    <tr>\n",
       "      <th>125</th>\n",
       "      <td>아요</td>\n",
       "      <td>EF</td>\n",
       "    </tr>\n",
       "  </tbody>\n",
       "</table>\n",
       "<p>87 rows × 2 columns</p>\n",
       "</div>"
      ],
      "text/plain": [
       "       형태소   주석\n",
       "0        음   IC\n",
       "1        아   IC\n",
       "2    안녕하세요   IC\n",
       "4        전   MM\n",
       "5        저   NP\n",
       "..     ...  ...\n",
       "120      하   VX\n",
       "121     아요   EF\n",
       "123     아주  MAG\n",
       "124    좋아하   VV\n",
       "125     아요   EF\n",
       "\n",
       "[87 rows x 2 columns]"
      ]
     },
     "execution_count": 43,
     "metadata": {},
     "output_type": "execute_result"
    }
   ],
   "source": [
    "## stopwords 리스트 생성\n",
    "txt_tmp = open(\"./koreanStopwords.txt\", 'r', encoding=\"utf-8\")\n",
    "\n",
    "stopwords = []\n",
    "while True:\n",
    "    line = txt_tmp.readline()\n",
    "    if not line: break\n",
    "    form, pos, _ = line.split()\n",
    "    stopwords.append([form, pos])\n",
    "\n",
    "txt_tmp.close()\n",
    "\n",
    "## stopwords 제거\n",
    "for f, p in stopwords:\n",
    "    df_data = df_data[~((df_data[\"형태소\"] == f) & (df_data[\"주석\"] == p))]\n",
    "\n",
    "df_data"
   ]
  }
 ],
 "metadata": {
  "kernelspec": {
   "display_name": "Python 3",
   "language": "python",
   "name": "python3"
  },
  "language_info": {
   "codemirror_mode": {
    "name": "ipython",
    "version": 3
   },
   "file_extension": ".py",
   "mimetype": "text/x-python",
   "name": "python",
   "nbconvert_exporter": "python",
   "pygments_lexer": "ipython3",
   "version": "3.11.4"
  },
  "orig_nbformat": 4
 },
 "nbformat": 4,
 "nbformat_minor": 2
}
