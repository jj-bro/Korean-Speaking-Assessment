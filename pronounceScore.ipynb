{
 "cells": [
  {
   "cell_type": "markdown",
   "metadata": {},
   "source": [
    "# 오타 기반 발음 점수 Generator"
   ]
  },
  {
   "cell_type": "code",
   "execution_count": 55,
   "metadata": {},
   "outputs": [
    {
     "name": "stdout",
     "output_type": "stream",
     "text": [
      "Collecting symspellpy-ko\n",
      "  Using cached symspellpy_ko-0.1.4-py3-none-any.whl (19.1 MB)\n",
      "Collecting symspellpy==6.7.0\n",
      "  Using cached symspellpy-6.7.0-py3-none-any.whl (2.6 MB)\n",
      "Requirement already satisfied: numpy>=1.13.1 in /usr/local/lib/python3.11/site-packages (from symspellpy==6.7.0->symspellpy-ko) (1.26.1)\n",
      "Installing collected packages: symspellpy, symspellpy-ko\n",
      "Successfully installed symspellpy-6.7.0 symspellpy-ko-0.1.4\n",
      "\n",
      "\u001b[1m[\u001b[0m\u001b[34;49mnotice\u001b[0m\u001b[1;39;49m]\u001b[0m\u001b[39;49m A new release of pip is available: \u001b[0m\u001b[31;49m23.0.1\u001b[0m\u001b[39;49m -> \u001b[0m\u001b[32;49m23.3.1\u001b[0m\n",
      "\u001b[1m[\u001b[0m\u001b[34;49mnotice\u001b[0m\u001b[1;39;49m]\u001b[0m\u001b[39;49m To update, run: \u001b[0m\u001b[32;49m/usr/local/opt/python@3.11/bin/python3.11 -m pip install --upgrade pip\u001b[0m\n"
     ]
    }
   ],
   "source": [
    "! pip3 install symspellpy-ko"
   ]
  },
  {
   "cell_type": "code",
   "execution_count": 1,
   "metadata": {},
   "outputs": [],
   "source": [
    "from symspellpy_ko import KoSymSpell, split_syllables, join_jamos, Verbosity\n",
    "\n",
    "def sym_spell():\n",
    "    sp = KoSymSpell()\n",
    "    sp.load_korean_dictionary(decompose_korean=True, load_bigrams=True)\n",
    "    return sp\n",
    "\n",
    "def test_lookup(sym_spell, term):\n",
    "    lookup = sym_spell.lookup(term, Verbosity.CLOSEST)[0]\n",
    "    assert lookup.term == \"안녕하세요\"\n",
    "    assert lookup.distance == 1"
   ]
  },
  {
   "cell_type": "code",
   "execution_count": 2,
   "metadata": {},
   "outputs": [
    {
     "name": "stdout",
     "output_type": "stream",
     "text": [
      "안녕하십니까\n"
     ]
    }
   ],
   "source": [
    "sp = sym_spell()\n",
    "\n",
    "lookup = sp.lookup(\"안뇽하십니까\", Verbosity.CLOSEST)[0].term\n",
    "\n",
    "print(lookup)"
   ]
  },
  {
   "cell_type": "code",
   "execution_count": 12,
   "metadata": {},
   "outputs": [
    {
     "name": "stdout",
     "output_type": "stream",
     "text": [
      "진탕\n",
      "노래도\n",
      "싶어요\n",
      "선생님\n",
      "선생님들이\n",
      "싶어요\n",
      "당신의 발음 점수는: \n",
      "44.44444444444445\n",
      "66.66666666666667\n"
     ]
    }
   ],
   "source": [
    "\n",
    "def get_pronunciation_score_for_word(word):\n",
    "    try :\n",
    "        fixed_text = sp.lookup(word, Verbosity.CLOSEST)[0].term\n",
    "        # count how many characters are different\n",
    "        count = 0\n",
    "        for i in range(len(word)):\n",
    "            if word[i] not in fixed_text:\n",
    "                count += 1\n",
    "        score = (1 - count/len(word)) * 100\n",
    "        print(fixed_text)\n",
    "    except :\n",
    "        print(\"Cannot find a proper text\")\n",
    "        return 0\n",
    "\n",
    "    return score\n",
    "    \n",
    "def get_pronunciation_score(list):\n",
    "    score = 0\n",
    "    for word in list:\n",
    "        score += get_pronunciation_score_for_word(word)\n",
    "    return score/len(list)\n",
    "\n",
    "score = get_pronunciation_score([\"진탕\", \"놀ㄷㄷ꼬\", \"시퍼요\"])\n",
    "score2 = get_pronunciation_score([\"선샘님\", \"선생님들이\", \"시퍼요\"])\n",
    "\n",
    "print(\"당신의 발음 점수는: \")\n",
    "print(score)\n",
    "\n",
    "\n",
    "print(score2)\n"
   ]
  }
 ],
 "metadata": {
  "kernelspec": {
   "display_name": "Python 3",
   "language": "python",
   "name": "python3"
  },
  "language_info": {
   "codemirror_mode": {
    "name": "ipython",
    "version": 3
   },
   "file_extension": ".py",
   "mimetype": "text/x-python",
   "name": "python",
   "nbconvert_exporter": "python",
   "pygments_lexer": "ipython3",
   "version": "3.11.4"
  },
  "orig_nbformat": 4,
  "vscode": {
   "interpreter": {
    "hash": "8a5edab282632443219e051e4ade2d1d5bbc671c781051bf1437897cbdfea0f1"
   }
  }
 },
 "nbformat": 4,
 "nbformat_minor": 2
}
