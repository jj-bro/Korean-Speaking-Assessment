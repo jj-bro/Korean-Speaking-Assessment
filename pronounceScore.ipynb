{
 "cells": [
  {
   "cell_type": "markdown",
   "metadata": {},
   "source": [
    "# input data 전처리 함수"
   ]
  },
  {
   "cell_type": "code",
   "execution_count": 110,
   "metadata": {},
   "outputs": [],
   "source": [
    "def tagging_pos_input_data(komoran, input_str):\n",
    "\n",
    "    input_token_komoran = komoran.get_plain_text(input_str).split(' ')\n",
    "    # print('코모란:', input_token_komoran)\n",
    "\n",
    "    df_komoran = pd.DataFrame([x.split('/') for x in input_token_komoran], columns=['형태소', '주석'])\n",
    "\n",
    "    # df_komoran\n",
    "    \n",
    "    # 정규식 패턴\n",
    "    pattern_english = r'^[a-zA-Z]+$'\n",
    "    pattern_number = r'\\d+'\n",
    "    pattern_symbol = r'[!@#$%^&*()_+-={}\\[\\]:;\"\\'<>,.?/~`|]'\n",
    "    pattern_empty = r'\\s+'\n",
    "\n",
    "    # 제거할 형태소 리스트\n",
    "    list_english = []\n",
    "    list_number = []\n",
    "    list_symbol = []\n",
    "    list_empty = []\n",
    "\n",
    "    ## 영어 제거\n",
    "    for index, row in df_komoran.iterrows():\n",
    "        if re.match(pattern_english, row['형태소']):\n",
    "            list_english.append(index)\n",
    "\n",
    "    df_remove_english = df_komoran.drop(list_english)\n",
    "\n",
    "\n",
    "    ## 숫자 제거\n",
    "    for index, row in df_remove_english.iterrows():\n",
    "        if re.match(pattern_number, row['형태소']):\n",
    "            list_number.append(index)\n",
    "\n",
    "    df_remove_number = df_remove_english.drop(list_number)\n",
    "\n",
    "\n",
    "    ## 기호 제거\n",
    "    for index, row in df_remove_number.iterrows():\n",
    "        if re.match(pattern_symbol, row['형태소']):\n",
    "            list_symbol.append(index)\n",
    "\n",
    "    df_remove_symbol = df_remove_number.drop(list_symbol)\n",
    "\n",
    "\n",
    "    ## 공백 제거\n",
    "    for index, row in df_remove_symbol.iterrows():\n",
    "        if re.match(pattern_empty, row['형태소']):\n",
    "            list_empty.append(index)\n",
    "\n",
    "    df_data = df_remove_symbol.drop(list_empty)\n",
    "\n",
    "    # df_data['형태소'].unique()\n",
    "\n",
    "    ## 미사용 형태 주석 제거\n",
    "    using_pos = ['NP', 'NNG', 'XSA', 'EP', 'EF', 'JX', 'NNP', 'JKB', 'XSV', 'EC', 'VX', 'ETM', 'XSN', 'VCP', 'VV', 'VA', 'JKS', 'MAG', 'XR', 'JC', 'NA', 'VCN', 'MM', 'ETN', 'MAJ', 'JKG', 'JKC', 'IC', 'NNB', 'NR', 'JKO', 'XPN', 'JKQ']\n",
    "\n",
    "    df_data = df_data[df_data['주석'].isin(using_pos)]\n",
    "\n",
    "    # print(df_data['주석'].unique())\n",
    "    \n",
    "    ## stopwords 리스트 생성\n",
    "    txt_tmp = open(\"./koreanStopwords.txt\", 'r', encoding=\"utf-8\")\n",
    "\n",
    "    stopwords = []\n",
    "    while True:\n",
    "        line = txt_tmp.readline()\n",
    "        if not line: break\n",
    "        form, pos, _ = line.split()\n",
    "        stopwords.append([form, pos])\n",
    "\n",
    "    txt_tmp.close()\n",
    "\n",
    "    ## stopwords 제거\n",
    "    for f, p in stopwords:\n",
    "        df_data = df_data[~((df_data[\"형태소\"] == f) & (df_data[\"주석\"] == p))]\n",
    "\n",
    "    return df_data"
   ]
  },
  {
   "cell_type": "code",
   "execution_count": 99,
   "metadata": {},
   "outputs": [
    {
     "data": {
      "text/html": [
       "<div>\n",
       "<style scoped>\n",
       "    .dataframe tbody tr th:only-of-type {\n",
       "        vertical-align: middle;\n",
       "    }\n",
       "\n",
       "    .dataframe tbody tr th {\n",
       "        vertical-align: top;\n",
       "    }\n",
       "\n",
       "    .dataframe thead th {\n",
       "        text-align: right;\n",
       "    }\n",
       "</style>\n",
       "<table border=\"1\" class=\"dataframe\">\n",
       "  <thead>\n",
       "    <tr style=\"text-align: right;\">\n",
       "      <th></th>\n",
       "      <th>형태소</th>\n",
       "      <th>주석</th>\n",
       "    </tr>\n",
       "  </thead>\n",
       "  <tbody>\n",
       "    <tr>\n",
       "      <th>0</th>\n",
       "      <td>음</td>\n",
       "      <td>IC</td>\n",
       "    </tr>\n",
       "    <tr>\n",
       "      <th>1</th>\n",
       "      <td>아</td>\n",
       "      <td>IC</td>\n",
       "    </tr>\n",
       "    <tr>\n",
       "      <th>2</th>\n",
       "      <td>안녕하세요</td>\n",
       "      <td>IC</td>\n",
       "    </tr>\n",
       "    <tr>\n",
       "      <th>5</th>\n",
       "      <td>저</td>\n",
       "      <td>NP</td>\n",
       "    </tr>\n",
       "    <tr>\n",
       "      <th>6</th>\n",
       "      <td>는</td>\n",
       "      <td>JX</td>\n",
       "    </tr>\n",
       "    <tr>\n",
       "      <th>...</th>\n",
       "      <td>...</td>\n",
       "      <td>...</td>\n",
       "    </tr>\n",
       "    <tr>\n",
       "      <th>118</th>\n",
       "      <td>를</td>\n",
       "      <td>JKO</td>\n",
       "    </tr>\n",
       "    <tr>\n",
       "      <th>121</th>\n",
       "      <td>아요</td>\n",
       "      <td>EF</td>\n",
       "    </tr>\n",
       "    <tr>\n",
       "      <th>123</th>\n",
       "      <td>아주</td>\n",
       "      <td>MAG</td>\n",
       "    </tr>\n",
       "    <tr>\n",
       "      <th>124</th>\n",
       "      <td>좋아하</td>\n",
       "      <td>VV</td>\n",
       "    </tr>\n",
       "    <tr>\n",
       "      <th>125</th>\n",
       "      <td>아요</td>\n",
       "      <td>EF</td>\n",
       "    </tr>\n",
       "  </tbody>\n",
       "</table>\n",
       "<p>78 rows × 2 columns</p>\n",
       "</div>"
      ],
      "text/plain": [
       "       형태소   주석\n",
       "0        음   IC\n",
       "1        아   IC\n",
       "2    안녕하세요   IC\n",
       "5        저   NP\n",
       "6        는   JX\n",
       "..     ...  ...\n",
       "118      를  JKO\n",
       "121     아요   EF\n",
       "123     아주  MAG\n",
       "124    좋아하   VV\n",
       "125     아요   EF\n",
       "\n",
       "[78 rows x 2 columns]"
      ]
     },
     "execution_count": 99,
     "metadata": {},
     "output_type": "execute_result"
    }
   ],
   "source": [
    "## test \n",
    "result = tagging_pos_input_data(\"음 아안녕하세요. 전 저는 <name1>입니다. 저는 학생입니다. <name2>대학교 학교에 국 한국어를 배워요. 저는 지금? 좋아요. 어 제가쪽이 음 네 명이에요. 아버지하고 어머니하고 누나하고 저이에요. 아버지는 선생님이에요. 음 아버지는 지금? 좋아요. 어 어머니 어머니는 요리사이에요 예요(이에요). 엄 으음 뜨 뜨라 뜨라 드 드라마를 좋아요. 어 누나 누나 누나가 회사원이에요. 저 저 운도를? 해요. 아주 좋아해요.\")\n",
    "\n",
    "result"
   ]
  },
  {
   "cell_type": "markdown",
   "metadata": {},
   "source": [
    "# 단어 사전 기반 점수 "
   ]
  },
  {
   "cell_type": "markdown",
   "metadata": {},
   "source": [
    "### 사전 데이터 전처리"
   ]
  },
  {
   "cell_type": "code",
   "execution_count": 5,
   "metadata": {},
   "outputs": [
    {
     "data": {
      "text/plain": [
       "0          가게\n",
       "1        가격02\n",
       "2        가구02\n",
       "3         가깝다\n",
       "4        가다01\n",
       "        ...  \n",
       "331      이라고는\n",
       "332    -는다던가1\n",
       "333     -으래서야\n",
       "334     -으리라고\n",
       "335      -자면2\n",
       "Length: 10971, dtype: object"
      ]
     },
     "execution_count": 5,
     "metadata": {},
     "output_type": "execute_result"
    }
   ],
   "source": [
    "#판다스로 어휘 문법 등급 목록 가져오기\n",
    "import pandas as pd\n",
    "df = pd.read_excel(\"./2017년 국제 통용 한국어 표준 교육과정 적용 연구(4단계) 어휘, 문법 등급 목록.xlsx\", sheet_name = [0,1])\n",
    "\n",
    "#어휘와 문법의 구성 요소만 확인할 수 있는 데이터프레임 생성\n",
    "df_voca = pd.concat([df[0]['어휘'], df[1]['대표형']])\n",
    "\n",
    "#확인\n",
    "df_voca"
   ]
  },
  {
   "cell_type": "code",
   "execution_count": 6,
   "metadata": {},
   "outputs": [
    {
     "data": {
      "text/plain": [
       "0         가게\n",
       "1         가격\n",
       "2         가구\n",
       "3        가깝다\n",
       "4         가다\n",
       "       ...  \n",
       "331     이라고는\n",
       "332    -는다던가\n",
       "333    -으래서야\n",
       "334    -으리라고\n",
       "335      -자면\n",
       "Length: 10971, dtype: object"
      ]
     },
     "execution_count": 6,
     "metadata": {},
     "output_type": "execute_result"
    }
   ],
   "source": [
    "#값 내 숫자 제거\n",
    "df_voca = df_voca.replace(r'\\d+', '', regex=True)\n",
    "\n",
    "#숫자 제거 확인\n",
    "df_voca"
   ]
  },
  {
   "cell_type": "code",
   "execution_count": 7,
   "metadata": {},
   "outputs": [
    {
     "name": "stdout",
     "output_type": "stream",
     "text": [
      "Requirement already satisfied: PyKomoran in /Library/Frameworks/Python.framework/Versions/3.11/lib/python3.11/site-packages (0.1.6.post1)\n",
      "Requirement already satisfied: py4j==0.10.9.2 in /Library/Frameworks/Python.framework/Versions/3.11/lib/python3.11/site-packages (from PyKomoran) (0.10.9.2)\n",
      "Python 3.11.4\n"
     ]
    }
   ],
   "source": [
    "#코모란 설치\n",
    "!pip install PyKomoran\n",
    "\n",
    "!python3 --version"
   ]
  },
  {
   "cell_type": "code",
   "execution_count": 9,
   "metadata": {},
   "outputs": [
    {
     "name": "stdout",
     "output_type": "stream",
     "text": [
      "KOMORAN/SL 은/JX 한국어/NNP 형태소/NNP 분석기/NNG 이/VCP ㅂ니다/EF ./SF\n"
     ]
    }
   ],
   "source": [
    "#코모란 라이브러리 가져오기 및 확인\n",
    "from PyKomoran import *\n",
    "komoran = Komoran(\"EXP\")\n",
    "print(komoran.get_plain_text(\"KOMORAN은 한국어 형태소 분석기입니다.\"))"
   ]
  },
  {
   "cell_type": "code",
   "execution_count": 11,
   "metadata": {},
   "outputs": [
    {
     "name": "stdout",
     "output_type": "stream",
     "text": [
      "    단어  형태소        수치\n",
      "0    이  VCP  0.018280\n",
      "1    있   VA  0.011699\n",
      "2    하   VV  0.009774\n",
      "3    것  NNB  0.009733\n",
      "4    들  XSN  0.006898\n",
      "..  ..  ...       ...\n",
      "95   원  NNB  0.000492\n",
      "96   잘  MAG  0.000491\n",
      "97  통하   VV  0.000487\n",
      "98  소리  NNG  0.000486\n",
      "99   놓   VX  0.000483\n",
      "\n",
      "[100 rows x 3 columns]\n"
     ]
    }
   ],
   "source": [
    "#한국어 불용어 사전 가져오기\n",
    "stop = pd.read_table(\"./koreanStopwords.txt\", names =[\"단어\", \"형태소\", \"수치\"])\n",
    "print(stop)"
   ]
  },
  {
   "cell_type": "code",
   "execution_count": 12,
   "metadata": {},
   "outputs": [
    {
     "data": {
      "text/plain": [
       "0      이\n",
       "1      있\n",
       "2      하\n",
       "3      것\n",
       "4      들\n",
       "      ..\n",
       "95     원\n",
       "96     잘\n",
       "97    통하\n",
       "98    소리\n",
       "99     놓\n",
       "Name: 단어, Length: 100, dtype: object"
      ]
     },
     "execution_count": 12,
     "metadata": {},
     "output_type": "execute_result"
    }
   ],
   "source": [
    "#불용어 사전에서 필요한 정보만 추출하기\n",
    "stop['단어']"
   ]
  },
  {
   "cell_type": "code",
   "execution_count": 29,
   "metadata": {},
   "outputs": [
    {
     "name": "stdout",
     "output_type": "stream",
     "text": [
      "상위 20개:\n",
      " 0       가\n",
      "1       게\n",
      "2      가격\n",
      "3      가구\n",
      "4      가깝\n",
      "5       다\n",
      "6       가\n",
      "7       다\n",
      "8     가르치\n",
      "9       다\n",
      "10     가방\n",
      "11     가볍\n",
      "12      다\n",
      "13     가수\n",
      "14     가요\n",
      "15    가운데\n",
      "16      가\n",
      "17      을\n",
      "18     가장\n",
      "19     가족\n",
      "dtype: object\n",
      "상위 20개:\n",
      " 15260    으리라는\n",
      "15261       를\n",
      "15262      막론\n",
      "15263       하\n",
      "15264       고\n",
      "15265       이\n",
      "15266       어\n",
      "15267      치우\n",
      "15268       다\n",
      "15269       이\n",
      "15270     는다는\n",
      "15271     이라고\n",
      "15272       는\n",
      "15273       이\n",
      "15274    는다던가\n",
      "15275      으래\n",
      "15276       서\n",
      "15277      어야\n",
      "15278    으리라고\n",
      "15279      자면\n",
      "dtype: object\n"
     ]
    }
   ],
   "source": [
    "#어휘 문법 사전의 구성 요소들을 형태소 형태로 변경 + 불용어 제거\n",
    "stopwords = [[stop['단어'], '-']]\n",
    "\n",
    "voca_list = []\n",
    "\n",
    "for w in df_voca:\n",
    "  newdf = komoran.get_morphes_by_tags(w, tag_list=['NP', 'NNG', 'XSA', 'EP', 'EF', 'JX', 'NNP', 'JKB', 'XSV', 'EC', 'VX', 'ETM', 'XSN', 'VCP', 'VV', 'VA', 'JKS', 'MAG', 'XR', 'JC', 'NA', 'VCN', 'MM', 'ETN', 'MAJ', 'JKG', 'JKC', 'IC', 'NNB', 'NR', 'JKO', 'XPN', 'JKQ'])\n",
    "\n",
    "  for w in newdf:\n",
    "    if w not in stopwords:\n",
    "      voca_list.append(w)\n",
    "\n",
    "#형태소 형태로 전환된 새로운 어휘 문법 데이터프레임 생성\n",
    "vocadf = pd.Series(voca_list)\n",
    "\n",
    "#확인\n",
    "print('상위 20개:\\n',vocadf.head(20))\n",
    "print('상위 20개:\\n',vocadf.tail(20))\n",
    "\n",
    "#데이터 프레임 저장\n",
    "vocadf.to_csv('./vocadf.csv', index=False)"
   ]
  },
  {
   "cell_type": "markdown",
   "metadata": {},
   "source": [
    "### 사전 기반 발음 점수 Generator 모듈 (50점 만점의 점수 리턴)"
   ]
  },
  {
   "cell_type": "code",
   "execution_count": 73,
   "metadata": {},
   "outputs": [
    {
     "name": "stdout",
     "output_type": "stream",
     "text": [
      "당신의 사전 기반 발음 점수는: \n",
      "33.333333333333336\n",
      "당신의 사전 기반 발음 점수는: \n",
      "50.0\n"
     ]
    }
   ],
   "source": [
    "# vocafd에서 word를 찾아서 있으면 1, 없으면 0 리턴함\n",
    "def get_pronunciation_score_for_word_by_vocadf(word):\n",
    "    return vocadf.str.contains(word).any()\n",
    "\n",
    "# 사전 기반 발음 점수 -> 50점 만점\n",
    "def get_pronunciation_score_by_vocadf(wordList):\n",
    "    matchedCount = 0\n",
    "    for word in wordList:\n",
    "        matchedCount += get_pronunciation_score_for_word_by_vocadf(word)\n",
    "    return (1-matchedCount/len(wordList))*50\n",
    "\n",
    "\n",
    "\n",
    "print(\"당신의 사전 기반 발음 점수는: \")\n",
    "print(score)\n",
    "\n",
    "print(\"당신의 사전 기반 발음 점수는: \")\n",
    "print(score2)\n"
   ]
  },
  {
   "cell_type": "markdown",
   "metadata": {},
   "source": [
    "# 오타 기반 발음 점수 "
   ]
  },
  {
   "cell_type": "code",
   "execution_count": 1,
   "metadata": {},
   "outputs": [
    {
     "name": "stdout",
     "output_type": "stream",
     "text": [
      "Requirement already satisfied: symspellpy-ko in /usr/local/lib/python3.11/site-packages (0.1.4)\n",
      "Requirement already satisfied: symspellpy==6.7.0 in /usr/local/lib/python3.11/site-packages (from symspellpy-ko) (6.7.0)\n",
      "Requirement already satisfied: numpy>=1.13.1 in /usr/local/lib/python3.11/site-packages (from symspellpy==6.7.0->symspellpy-ko) (1.26.1)\n",
      "\n",
      "\u001b[1m[\u001b[0m\u001b[34;49mnotice\u001b[0m\u001b[1;39;49m]\u001b[0m\u001b[39;49m A new release of pip is available: \u001b[0m\u001b[31;49m23.0.1\u001b[0m\u001b[39;49m -> \u001b[0m\u001b[32;49m23.3.1\u001b[0m\n",
      "\u001b[1m[\u001b[0m\u001b[34;49mnotice\u001b[0m\u001b[1;39;49m]\u001b[0m\u001b[39;49m To update, run: \u001b[0m\u001b[32;49m/usr/local/opt/python@3.11/bin/python3.11 -m pip install --upgrade pip\u001b[0m\n"
     ]
    }
   ],
   "source": [
    "! pip3 install symspellpy-ko"
   ]
  },
  {
   "cell_type": "code",
   "execution_count": 2,
   "metadata": {},
   "outputs": [],
   "source": [
    "from symspellpy_ko import KoSymSpell, split_syllables, join_jamos, Verbosity\n",
    "\n",
    "def sym_spell():\n",
    "    sp = KoSymSpell()\n",
    "    sp.load_korean_dictionary(decompose_korean=True, load_bigrams=True)\n",
    "    return sp\n",
    "\n",
    "def test_lookup(sym_spell, term):\n",
    "    lookup = sym_spell.lookup(term, Verbosity.CLOSEST)[0]\n",
    "    assert lookup.term == \"안녕하세요\"\n",
    "    assert lookup.distance == 1"
   ]
  },
  {
   "cell_type": "code",
   "execution_count": 3,
   "metadata": {},
   "outputs": [
    {
     "name": "stdout",
     "output_type": "stream",
     "text": [
      "안녕하십니까\n"
     ]
    }
   ],
   "source": [
    "sp = sym_spell()\n",
    "\n",
    "lookup = sp.lookup(\"안뇽하십니까\", Verbosity.CLOSEST)[0].term\n",
    "\n",
    "print(lookup)"
   ]
  },
  {
   "cell_type": "markdown",
   "metadata": {},
   "source": [
    "### 오타 기반 발음 점수 Generator 모듈 (50점 만점의 점수 리턴)"
   ]
  },
  {
   "cell_type": "code",
   "execution_count": 86,
   "metadata": {},
   "outputs": [
    {
     "data": {
      "text/plain": [
       "33.333333333333336"
      ]
     },
     "execution_count": 86,
     "metadata": {},
     "output_type": "execute_result"
    }
   ],
   "source": [
    "# word를 받아서 word의 오타를 제거하고, 제거된 char의 비율을 계산함. \n",
    "def get_pronunciation_score_by_correction_for_word(word):\n",
    "    try :\n",
    "        fixed_text = sp.lookup(word, Verbosity.CLOSEST)[0].term\n",
    "        # count how many characters are different\n",
    "        count = 0\n",
    "        for i in range(len(word)):\n",
    "            if word[i] not in fixed_text:\n",
    "                count += 1\n",
    "        score = (1 - count/len(word)) \n",
    "        # print(fixed_text)\n",
    "    except :\n",
    "        # print(\"Cannot find a proper text\")\n",
    "        return 0\n",
    "\n",
    "    return score\n",
    "    \n",
    "\n",
    "# 리스트를 받아서 리스트 내 아이템 하나씩 스코어 함수 호출. (50점 만점)\n",
    "def get_pronunciation_score_by_correction(list):\n",
    "    score = 0\n",
    "    for word in list:\n",
    "        score += get_pronunciation_score_by_correction_for_word(word)\n",
    "    return score/len(list)*50\n",
    "\n",
    "\n",
    "get_pronunciation_score_by_correction([\"아야\", \"맛난거\"])"
   ]
  },
  {
   "cell_type": "markdown",
   "metadata": {},
   "source": [
    "두 점수 종합하는 function"
   ]
  },
  {
   "cell_type": "code",
   "execution_count": 118,
   "metadata": {},
   "outputs": [],
   "source": [
    "# Komoran 준비 ( Java 에러 종종 나서 분리)\n",
    "komoran = Komoran(\"EXP\")\n"
   ]
  },
  {
   "cell_type": "code",
   "execution_count": 112,
   "metadata": {},
   "outputs": [
    {
     "ename": "Py4JJavaError",
     "evalue": "An error occurred while calling o131687.init.\n: java.lang.OutOfMemoryError: GC overhead limit exceeded\n",
     "output_type": "error",
     "traceback": [
      "\u001b[0;31m---------------------------------------------------------------------------\u001b[0m",
      "\u001b[0;31mPy4JJavaError\u001b[0m                             Traceback (most recent call last)",
      "\u001b[1;32m/Users/yeonjaeim/Documents/Korean-Speaking-Assessment/pronounceScore.ipynb Cell 22\u001b[0m line \u001b[0;36m1\n\u001b[0;32m----> <a href='vscode-notebook-cell:/Users/yeonjaeim/Documents/Korean-Speaking-Assessment/pronounceScore.ipynb#Y106sZmlsZQ%3D%3D?line=0'>1</a>\u001b[0m komoran \u001b[39m=\u001b[39m Komoran(\u001b[39m\"\u001b[39;49m\u001b[39mEXP\u001b[39;49m\u001b[39m\"\u001b[39;49m)\n\u001b[1;32m      <a href='vscode-notebook-cell:/Users/yeonjaeim/Documents/Korean-Speaking-Assessment/pronounceScore.ipynb#Y106sZmlsZQ%3D%3D?line=2'>3</a>\u001b[0m \u001b[39mdef\u001b[39;00m \u001b[39mget_pronunciation_score\u001b[39m(text):\n\u001b[1;32m      <a href='vscode-notebook-cell:/Users/yeonjaeim/Documents/Korean-Speaking-Assessment/pronounceScore.ipynb#Y106sZmlsZQ%3D%3D?line=3'>4</a>\u001b[0m     list_pos_tagged \u001b[39m=\u001b[39m tagging_pos_input_data(komoran, text)[\u001b[39m'\u001b[39m\u001b[39m형태소\u001b[39m\u001b[39m'\u001b[39m]\n",
      "File \u001b[0;32m/Library/Frameworks/Python.framework/Versions/3.11/lib/python3.11/site-packages/PyKomoran/core.py:54\u001b[0m, in \u001b[0;36mKomoran.__init__\u001b[0;34m(self, model_path, max_heap)\u001b[0m\n\u001b[1;32m     51\u001b[0m jvm\u001b[39m.\u001b[39minit_jvm(max_heap)\n\u001b[1;32m     52\u001b[0m \u001b[39mself\u001b[39m\u001b[39m.\u001b[39m_komoran \u001b[39m=\u001b[39m jvm\u001b[39m.\u001b[39mget_jvm()\u001b[39m.\u001b[39mkr\u001b[39m.\u001b[39mco\u001b[39m.\u001b[39mshineware\u001b[39m.\u001b[39mnlp\u001b[39m.\u001b[39mpykomoran\u001b[39m.\u001b[39mKomoranEntryPoint()\n\u001b[0;32m---> 54\u001b[0m \u001b[39mself\u001b[39;49m\u001b[39m.\u001b[39;49m_komoran\u001b[39m.\u001b[39;49minit(model_path)\n\u001b[1;32m     55\u001b[0m \u001b[39mif\u001b[39;00m \u001b[39mnot\u001b[39;00m \u001b[39mself\u001b[39m\u001b[39m.\u001b[39m_komoran\u001b[39m.\u001b[39misInitialized():\n\u001b[1;32m     56\u001b[0m     \u001b[39mraise\u001b[39;00m KomoranError(\u001b[39m\"\u001b[39m\u001b[39mKomoran is NOT initialized!\u001b[39m\u001b[39m\"\u001b[39m)\n",
      "File \u001b[0;32m/Library/Frameworks/Python.framework/Versions/3.11/lib/python3.11/site-packages/py4j/java_gateway.py:1309\u001b[0m, in \u001b[0;36mJavaMember.__call__\u001b[0;34m(self, *args)\u001b[0m\n\u001b[1;32m   1303\u001b[0m command \u001b[39m=\u001b[39m proto\u001b[39m.\u001b[39mCALL_COMMAND_NAME \u001b[39m+\u001b[39m\\\n\u001b[1;32m   1304\u001b[0m     \u001b[39mself\u001b[39m\u001b[39m.\u001b[39mcommand_header \u001b[39m+\u001b[39m\\\n\u001b[1;32m   1305\u001b[0m     args_command \u001b[39m+\u001b[39m\\\n\u001b[1;32m   1306\u001b[0m     proto\u001b[39m.\u001b[39mEND_COMMAND_PART\n\u001b[1;32m   1308\u001b[0m answer \u001b[39m=\u001b[39m \u001b[39mself\u001b[39m\u001b[39m.\u001b[39mgateway_client\u001b[39m.\u001b[39msend_command(command)\n\u001b[0;32m-> 1309\u001b[0m return_value \u001b[39m=\u001b[39m get_return_value(\n\u001b[1;32m   1310\u001b[0m     answer, \u001b[39mself\u001b[39;49m\u001b[39m.\u001b[39;49mgateway_client, \u001b[39mself\u001b[39;49m\u001b[39m.\u001b[39;49mtarget_id, \u001b[39mself\u001b[39;49m\u001b[39m.\u001b[39;49mname)\n\u001b[1;32m   1312\u001b[0m \u001b[39mfor\u001b[39;00m temp_arg \u001b[39min\u001b[39;00m temp_args:\n\u001b[1;32m   1313\u001b[0m     temp_arg\u001b[39m.\u001b[39m_detach()\n",
      "File \u001b[0;32m/Library/Frameworks/Python.framework/Versions/3.11/lib/python3.11/site-packages/py4j/protocol.py:326\u001b[0m, in \u001b[0;36mget_return_value\u001b[0;34m(answer, gateway_client, target_id, name)\u001b[0m\n\u001b[1;32m    324\u001b[0m value \u001b[39m=\u001b[39m OUTPUT_CONVERTER[\u001b[39mtype\u001b[39m](answer[\u001b[39m2\u001b[39m:], gateway_client)\n\u001b[1;32m    325\u001b[0m \u001b[39mif\u001b[39;00m answer[\u001b[39m1\u001b[39m] \u001b[39m==\u001b[39m REFERENCE_TYPE:\n\u001b[0;32m--> 326\u001b[0m     \u001b[39mraise\u001b[39;00m Py4JJavaError(\n\u001b[1;32m    327\u001b[0m         \u001b[39m\"\u001b[39m\u001b[39mAn error occurred while calling \u001b[39m\u001b[39m{0}\u001b[39;00m\u001b[39m{1}\u001b[39;00m\u001b[39m{2}\u001b[39;00m\u001b[39m.\u001b[39m\u001b[39m\\n\u001b[39;00m\u001b[39m\"\u001b[39m\u001b[39m.\u001b[39m\n\u001b[1;32m    328\u001b[0m         \u001b[39mformat\u001b[39m(target_id, \u001b[39m\"\u001b[39m\u001b[39m.\u001b[39m\u001b[39m\"\u001b[39m, name), value)\n\u001b[1;32m    329\u001b[0m \u001b[39melse\u001b[39;00m:\n\u001b[1;32m    330\u001b[0m     \u001b[39mraise\u001b[39;00m Py4JError(\n\u001b[1;32m    331\u001b[0m         \u001b[39m\"\u001b[39m\u001b[39mAn error occurred while calling \u001b[39m\u001b[39m{0}\u001b[39;00m\u001b[39m{1}\u001b[39;00m\u001b[39m{2}\u001b[39;00m\u001b[39m. Trace:\u001b[39m\u001b[39m\\n\u001b[39;00m\u001b[39m{3}\u001b[39;00m\u001b[39m\\n\u001b[39;00m\u001b[39m\"\u001b[39m\u001b[39m.\u001b[39m\n\u001b[1;32m    332\u001b[0m         \u001b[39mformat\u001b[39m(target_id, \u001b[39m\"\u001b[39m\u001b[39m.\u001b[39m\u001b[39m\"\u001b[39m, name, value))\n",
      "\u001b[0;31mPy4JJavaError\u001b[0m: An error occurred while calling o131687.init.\n: java.lang.OutOfMemoryError: GC overhead limit exceeded\n"
     ]
    }
   ],
   "source": [
    "def get_pronunciation_score(text):\n",
    "    list_pos_tagged = tagging_pos_input_data(komoran, text)['형태소']\n",
    "    tokenized_list = text.split(' ')\n",
    "    # print(tokenized_list)\n",
    "    score_by_voca = get_pronunciation_score_by_vocadf(list_pos_tagged)\n",
    "    score_by_correction = get_pronunciation_score_by_correction(tokenized_list)\n",
    "\n",
    "\n",
    "    print(f\"단어 사전 기반 점수: {score_by_voca}\")\n",
    "    print(f\"오타 교정 기반 점수: {score_by_correction}\")\n",
    "    print(f\"종합 발음 점수: {score_by_voca+score_by_correction}\")\n",
    "\n",
    "    return score_by_voca+score_by_correction\n",
    "\n",
    "\n",
    "get_pronunciation_score (\"음 아안녕하세요. 전 저는 <name1>입니다. 저는 학생입니다. <name2>대학교 학교에 국 한국어를 배워요. 저는 지금? 좋아요. 어 제가쪽이 음 네 명이에요. 아버지하고 어머니하고 누나하고 저이에요. 아버지는 선생님이에요. 음 아버지는 지금? 좋아요. 어 어머니 어머니는 요리사이에요 예요(이에요). 엄 으음 뜨 뜨라 뜨라 드 드라마를 좋아요. 어 누나 누나 누나가 회사원이에요. 저 저 운도를? 해요. 아주 좋아해요.\")\n",
    "get_pronunciation_score (\"어렸얼 어렸을 때 부짜 되고 싶어요\")\n",
    "get_pronunciation_score (\"안녕하세요. 저는 학생입니다. 대학교에서 한국어를 배워요. 저는 기분이 좋아요\")\n",
    "\n"
   ]
  },
  {
   "cell_type": "markdown",
   "metadata": {},
   "source": []
  }
 ],
 "metadata": {
  "kernelspec": {
   "display_name": "Python 3",
   "language": "python",
   "name": "python3"
  },
  "language_info": {
   "codemirror_mode": {
    "name": "ipython",
    "version": 3
   },
   "file_extension": ".py",
   "mimetype": "text/x-python",
   "name": "python",
   "nbconvert_exporter": "python",
   "pygments_lexer": "ipython3",
   "version": "3.11.4"
  },
  "orig_nbformat": 4,
  "vscode": {
   "interpreter": {
    "hash": "8a5edab282632443219e051e4ade2d1d5bbc671c781051bf1437897cbdfea0f1"
   }
  }
 },
 "nbformat": 4,
 "nbformat_minor": 2
}
